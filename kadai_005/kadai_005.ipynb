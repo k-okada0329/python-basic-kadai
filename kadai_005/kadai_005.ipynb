{
  "nbformat": 4,
  "nbformat_minor": 0,
  "metadata": {
    "colab": {
      "provenance": []
    },
    "kernelspec": {
      "name": "python3",
      "display_name": "Python 3"
    },
    "language_info": {
      "name": "python"
    }
  },
  "cells": [
    {
      "cell_type": "code",
      "execution_count": 2,
      "metadata": {
        "colab": {
          "base_uri": "https://localhost:8080/"
        },
        "id": "DDIz71s0V49i",
        "outputId": "837e539d-44f5-4916-b4ef-c74756b1f27c"
      },
      "outputs": [
        {
          "output_type": "stream",
          "name": "stdout",
          "text": [
            "75.0cm²\n"
          ]
        }
      ],
      "source": [
        "top_line = 10\n",
        "bottom_line = 20\n",
        "height = 5\n",
        "square = (top_line + bottom_line) * height / 2\n",
        "\n",
        "print(str(square) + \"cm²\")"
      ]
    },
    {
      "cell_type": "code",
      "source": [],
      "metadata": {
        "id": "1HzKtAMaWSHT"
      },
      "execution_count": null,
      "outputs": []
    }
  ]
}