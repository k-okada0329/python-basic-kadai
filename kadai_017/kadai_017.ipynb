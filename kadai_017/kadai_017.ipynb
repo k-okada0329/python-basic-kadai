{
  "nbformat": 4,
  "nbformat_minor": 0,
  "metadata": {
    "colab": {
      "provenance": []
    },
    "kernelspec": {
      "name": "python3",
      "display_name": "Python 3"
    },
    "language_info": {
      "name": "python"
    }
  },
  "cells": [
    {
      "cell_type": "code",
      "execution_count": 2,
      "metadata": {
        "colab": {
          "base_uri": "https://localhost:8080/"
        },
        "id": "uihINHuX_4RJ",
        "outputId": "00fa8a96-792f-48a3-d3bf-e336f252648c"
      },
      "outputs": [
        {
          "output_type": "stream",
          "name": "stdout",
          "text": [
            "太郎さんは大人です\n",
            "花子さんは大人です\n",
            "二郎さんは大人ではありません\n"
          ]
        }
      ],
      "source": [
        "class Human:\n",
        "  def __init__(self,name,age):\n",
        "    self.name = name\n",
        "    self.age  = age\n",
        "\n",
        "  def check_adult(self):\n",
        "    if self.age >= 20:\n",
        "      print(f\"{self.name}さんは大人です\")\n",
        "    else:\n",
        "      print(f\"{self.name}さんは大人ではありません\")\n",
        "\n",
        "humans = [Human(\"太郎\",33),Human(\"花子\",20),Human(\"二郎\",19)]\n",
        "\n",
        "for human in humans:\n",
        "  human.check_adult()\n"
      ]
    }
  ]
}