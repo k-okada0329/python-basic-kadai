{
  "nbformat": 4,
  "nbformat_minor": 0,
  "metadata": {
    "colab": {
      "provenance": []
    },
    "kernelspec": {
      "name": "python3",
      "display_name": "Python 3"
    },
    "language_info": {
      "name": "python"
    }
  },
  "cells": [
    {
      "cell_type": "code",
      "execution_count": 4,
      "metadata": {
        "colab": {
          "base_uri": "https://localhost:8080/"
        },
        "id": "nmJ6qxO3zSWD",
        "outputId": "c2a4f632-321a-42d7-a3b7-278ee8092ce9"
      },
      "outputs": [
        {
          "output_type": "stream",
          "name": "stdout",
          "text": [
            "1650.0\n"
          ]
        }
      ],
      "source": [
        "def calculate_amount(price,rate):\n",
        "  return price + (price * rate / 100)\n",
        "\n",
        "amount = calculate_amount(1500,10)\n",
        "\n",
        "print(amount)"
      ]
    }
  ]
}